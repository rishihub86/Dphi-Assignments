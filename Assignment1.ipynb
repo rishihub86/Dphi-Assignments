{
  "nbformat": 4,
  "nbformat_minor": 0,
  "metadata": {
    "colab": {
      "name": "Untitled1.ipynb",
      "provenance": [],
      "collapsed_sections": [],
      "authorship_tag": "ABX9TyPAbesfD6vRNS9gq1Uv915i",
      "include_colab_link": true
    },
    "kernelspec": {
      "name": "python3",
      "display_name": "Python 3"
    }
  },
  "cells": [
    {
      "cell_type": "markdown",
      "metadata": {
        "id": "view-in-github",
        "colab_type": "text"
      },
      "source": [
        "<a href=\"https://colab.research.google.com/github/rishihub86/Dphi-Assignments/blob/main/Assignment1.ipynb\" target=\"_parent\"><img src=\"https://colab.research.google.com/assets/colab-badge.svg\" alt=\"Open In Colab\"/></a>"
      ]
    },
    {
      "cell_type": "code",
      "metadata": {
        "id": "76G3SPdmCQgw"
      },
      "source": [
        "import pandas as pd\r\n"
      ],
      "execution_count": 1,
      "outputs": []
    },
    {
      "cell_type": "code",
      "metadata": {
        "id": "_w_XIZ20Cpmh"
      },
      "source": [
        "url = 'https://drive.google.com/file/d/1QcKzIJlO6WRUH4IkrKAvDmBVEipXkeQb/view?usp=sharing'\r\n",
        "\r\n",
        "path = 'https://drive.google.com/uc?export=download&id='+url.split('/')[-2]"
      ],
      "execution_count": 2,
      "outputs": []
    },
    {
      "cell_type": "code",
      "metadata": {
        "id": "beAZOYpn0osI"
      },
      "source": [
        "data = pd.read_csv(path)"
      ],
      "execution_count": 3,
      "outputs": []
    },
    {
      "cell_type": "code",
      "metadata": {
        "colab": {
          "base_uri": "https://localhost:8080/",
          "height": 402
        },
        "id": "UtjwV_53C5km",
        "outputId": "03e8f212-fb74-4229-9d2a-7e0847c2634c"
      },
      "source": [
        "data"
      ],
      "execution_count": 8,
      "outputs": [
        {
          "output_type": "execute_result",
          "data": {
            "text/html": [
              "<div>\n",
              "<style scoped>\n",
              "    .dataframe tbody tr th:only-of-type {\n",
              "        vertical-align: middle;\n",
              "    }\n",
              "\n",
              "    .dataframe tbody tr th {\n",
              "        vertical-align: top;\n",
              "    }\n",
              "\n",
              "    .dataframe thead th {\n",
              "        text-align: right;\n",
              "    }\n",
              "</style>\n",
              "<table border=\"1\" class=\"dataframe\">\n",
              "  <thead>\n",
              "    <tr style=\"text-align: right;\">\n",
              "      <th></th>\n",
              "      <th>VendorID</th>\n",
              "      <th>tpep_pickup_datetime</th>\n",
              "      <th>tpep_dropoff_datetime</th>\n",
              "      <th>passenger_count</th>\n",
              "      <th>PULocationID</th>\n",
              "      <th>DOLocationID</th>\n",
              "      <th>fare_amount</th>\n",
              "    </tr>\n",
              "  </thead>\n",
              "  <tbody>\n",
              "    <tr>\n",
              "      <th>0</th>\n",
              "      <td>1.0</td>\n",
              "      <td>2020-01-01 00:28:15</td>\n",
              "      <td>2020-01-01 00:33:03</td>\n",
              "      <td>1.0</td>\n",
              "      <td>238</td>\n",
              "      <td>239</td>\n",
              "      <td>6.00</td>\n",
              "    </tr>\n",
              "    <tr>\n",
              "      <th>1</th>\n",
              "      <td>1.0</td>\n",
              "      <td>2020-01-01 00:35:39</td>\n",
              "      <td>2020-01-01 00:43:04</td>\n",
              "      <td>1.0</td>\n",
              "      <td>239</td>\n",
              "      <td>238</td>\n",
              "      <td>7.00</td>\n",
              "    </tr>\n",
              "    <tr>\n",
              "      <th>2</th>\n",
              "      <td>1.0</td>\n",
              "      <td>2020-01-01 00:47:41</td>\n",
              "      <td>2020-01-01 00:53:52</td>\n",
              "      <td>1.0</td>\n",
              "      <td>238</td>\n",
              "      <td>238</td>\n",
              "      <td>6.00</td>\n",
              "    </tr>\n",
              "    <tr>\n",
              "      <th>3</th>\n",
              "      <td>1.0</td>\n",
              "      <td>2020-01-01 00:55:23</td>\n",
              "      <td>2020-01-01 01:00:14</td>\n",
              "      <td>1.0</td>\n",
              "      <td>238</td>\n",
              "      <td>151</td>\n",
              "      <td>5.50</td>\n",
              "    </tr>\n",
              "    <tr>\n",
              "      <th>4</th>\n",
              "      <td>2.0</td>\n",
              "      <td>2020-01-01 00:01:58</td>\n",
              "      <td>2020-01-01 00:04:16</td>\n",
              "      <td>1.0</td>\n",
              "      <td>193</td>\n",
              "      <td>193</td>\n",
              "      <td>3.50</td>\n",
              "    </tr>\n",
              "    <tr>\n",
              "      <th>...</th>\n",
              "      <td>...</td>\n",
              "      <td>...</td>\n",
              "      <td>...</td>\n",
              "      <td>...</td>\n",
              "      <td>...</td>\n",
              "      <td>...</td>\n",
              "      <td>...</td>\n",
              "    </tr>\n",
              "    <tr>\n",
              "      <th>1243236</th>\n",
              "      <td>NaN</td>\n",
              "      <td>2020-01-07 09:18:00</td>\n",
              "      <td>2020-01-07 09:55:00</td>\n",
              "      <td>NaN</td>\n",
              "      <td>151</td>\n",
              "      <td>145</td>\n",
              "      <td>28.36</td>\n",
              "    </tr>\n",
              "    <tr>\n",
              "      <th>1243237</th>\n",
              "      <td>NaN</td>\n",
              "      <td>2020-01-07 09:05:00</td>\n",
              "      <td>2020-01-07 09:30:00</td>\n",
              "      <td>NaN</td>\n",
              "      <td>259</td>\n",
              "      <td>78</td>\n",
              "      <td>24.36</td>\n",
              "    </tr>\n",
              "    <tr>\n",
              "      <th>1243238</th>\n",
              "      <td>NaN</td>\n",
              "      <td>2020-01-07 09:05:00</td>\n",
              "      <td>2020-01-07 09:30:00</td>\n",
              "      <td>NaN</td>\n",
              "      <td>259</td>\n",
              "      <td>78</td>\n",
              "      <td>24.36</td>\n",
              "    </tr>\n",
              "    <tr>\n",
              "      <th>1243239</th>\n",
              "      <td>NaN</td>\n",
              "      <td>2020-01-07 09:49:00</td>\n",
              "      <td>2020-01-07 09:58:00</td>\n",
              "      <td>NaN</td>\n",
              "      <td>116</td>\n",
              "      <td>166</td>\n",
              "      <td>20.06</td>\n",
              "    </tr>\n",
              "    <tr>\n",
              "      <th>1243240</th>\n",
              "      <td>NaN</td>\n",
              "      <td>2020-01-07 09:49:00</td>\n",
              "      <td>2020-01-07 09:58:00</td>\n",
              "      <td>NaN</td>\n",
              "      <td>116</td>\n",
              "      <td>166</td>\n",
              "      <td>20.06</td>\n",
              "    </tr>\n",
              "  </tbody>\n",
              "</table>\n",
              "<p>1243241 rows × 7 columns</p>\n",
              "</div>"
            ],
            "text/plain": [
              "         VendorID tpep_pickup_datetime  ... DOLocationID  fare_amount\n",
              "0             1.0  2020-01-01 00:28:15  ...          239         6.00\n",
              "1             1.0  2020-01-01 00:35:39  ...          238         7.00\n",
              "2             1.0  2020-01-01 00:47:41  ...          238         6.00\n",
              "3             1.0  2020-01-01 00:55:23  ...          151         5.50\n",
              "4             2.0  2020-01-01 00:01:58  ...          193         3.50\n",
              "...           ...                  ...  ...          ...          ...\n",
              "1243236       NaN  2020-01-07 09:18:00  ...          145        28.36\n",
              "1243237       NaN  2020-01-07 09:05:00  ...           78        24.36\n",
              "1243238       NaN  2020-01-07 09:05:00  ...           78        24.36\n",
              "1243239       NaN  2020-01-07 09:49:00  ...          166        20.06\n",
              "1243240       NaN  2020-01-07 09:49:00  ...          166        20.06\n",
              "\n",
              "[1243241 rows x 7 columns]"
            ]
          },
          "metadata": {
            "tags": []
          },
          "execution_count": 8
        }
      ]
    },
    {
      "cell_type": "code",
      "metadata": {
        "colab": {
          "base_uri": "https://localhost:8080/"
        },
        "id": "7iADFbwNDdG1",
        "outputId": "c997dba9-07a2-405e-8a65-fd461b4d9398"
      },
      "source": [
        "data.info()\r\n"
      ],
      "execution_count": 5,
      "outputs": [
        {
          "output_type": "stream",
          "text": [
            "<class 'pandas.core.frame.DataFrame'>\n",
            "RangeIndex: 1243241 entries, 0 to 1243240\n",
            "Data columns (total 7 columns):\n",
            " #   Column                 Non-Null Count    Dtype  \n",
            "---  ------                 --------------    -----  \n",
            " 0   VendorID               1227632 non-null  float64\n",
            " 1   tpep_pickup_datetime   1243241 non-null  object \n",
            " 2   tpep_dropoff_datetime  1243241 non-null  object \n",
            " 3   passenger_count        1227632 non-null  float64\n",
            " 4   PULocationID           1243241 non-null  int64  \n",
            " 5   DOLocationID           1243241 non-null  int64  \n",
            " 6   fare_amount            1243241 non-null  float64\n",
            "dtypes: float64(3), int64(2), object(2)\n",
            "memory usage: 66.4+ MB\n"
          ],
          "name": "stdout"
        }
      ]
    },
    {
      "cell_type": "code",
      "metadata": {
        "id": "i6UKLXKRGI9y"
      },
      "source": [
        "passenger = data[\"passenger_count\"]"
      ],
      "execution_count": 11,
      "outputs": []
    },
    {
      "cell_type": "code",
      "metadata": {
        "colab": {
          "base_uri": "https://localhost:8080/"
        },
        "id": "BYSZxDAMIrVP",
        "outputId": "9e08e1c4-b0c6-4e74-8454-ec1d01eb3129"
      },
      "source": [
        "passenger.max()"
      ],
      "execution_count": 12,
      "outputs": [
        {
          "output_type": "execute_result",
          "data": {
            "text/plain": [
              "9.0"
            ]
          },
          "metadata": {
            "tags": []
          },
          "execution_count": 12
        }
      ]
    },
    {
      "cell_type": "code",
      "metadata": {
        "id": "e8U7lKiBI3nU"
      },
      "source": [
        "fare = data[\"fare_amount\"]"
      ],
      "execution_count": 13,
      "outputs": []
    },
    {
      "cell_type": "code",
      "metadata": {
        "colab": {
          "base_uri": "https://localhost:8080/"
        },
        "id": "n7o_1wAEJCPR",
        "outputId": "2b4a4bf2-43ff-48a5-ffcd-987e30b3b6c6"
      },
      "source": [
        "fare.mean()"
      ],
      "execution_count": 16,
      "outputs": [
        {
          "output_type": "execute_result",
          "data": {
            "text/plain": [
              "13.02977364806841"
            ]
          },
          "metadata": {
            "tags": []
          },
          "execution_count": 16
        }
      ]
    },
    {
      "cell_type": "code",
      "metadata": {
        "id": "Efy-0HfjJf7d"
      },
      "source": [
        "PULocationID = data[\"PULocationID\"]"
      ],
      "execution_count": 17,
      "outputs": []
    },
    {
      "cell_type": "code",
      "metadata": {
        "colab": {
          "base_uri": "https://localhost:8080/"
        },
        "id": "EpYH54GHJnWM",
        "outputId": "0c1af16c-ebbf-44d7-af5a-36d2fb36ff36"
      },
      "source": [
        "PULocationID.value_counts()"
      ],
      "execution_count": 20,
      "outputs": [
        {
          "output_type": "execute_result",
          "data": {
            "text/plain": [
              "132    53790\n",
              "237    52055\n",
              "161    49558\n",
              "236    48450\n",
              "186    44809\n",
              "       ...  \n",
              "206        1\n",
              "245        1\n",
              "111        1\n",
              "30         1\n",
              "2          1\n",
              "Name: PULocationID, Length: 255, dtype: int64"
            ]
          },
          "metadata": {
            "tags": []
          },
          "execution_count": 20
        }
      ]
    },
    {
      "cell_type": "code",
      "metadata": {
        "id": "6bj5IUYiJ6JB"
      },
      "source": [
        "DOLocationID = data[\"DOLocationID\"]"
      ],
      "execution_count": 21,
      "outputs": []
    },
    {
      "cell_type": "code",
      "metadata": {
        "colab": {
          "base_uri": "https://localhost:8080/"
        },
        "id": "tDYRx7vBJ_ka",
        "outputId": "9a49d6fe-90c1-4465-b123-4569957cd19a"
      },
      "source": [
        "DOLocationID.value_counts()"
      ],
      "execution_count": 22,
      "outputs": [
        {
          "output_type": "execute_result",
          "data": {
            "text/plain": [
              "236    52377\n",
              "237    46683\n",
              "161    44751\n",
              "230    39926\n",
              "170    36256\n",
              "       ...  \n",
              "187        7\n",
              "204        7\n",
              "99         3\n",
              "2          3\n",
              "104        1\n",
              "Name: DOLocationID, Length: 261, dtype: int64"
            ]
          },
          "metadata": {
            "tags": []
          },
          "execution_count": 22
        }
      ]
    },
    {
      "cell_type": "code",
      "metadata": {
        "colab": {
          "base_uri": "https://localhost:8080/",
          "height": 402
        },
        "id": "KZ316zt9Ns43",
        "outputId": "9ed3f087-4620-4f7f-8538-c165caac7f39"
      },
      "source": [
        "data"
      ],
      "execution_count": 23,
      "outputs": [
        {
          "output_type": "execute_result",
          "data": {
            "text/html": [
              "<div>\n",
              "<style scoped>\n",
              "    .dataframe tbody tr th:only-of-type {\n",
              "        vertical-align: middle;\n",
              "    }\n",
              "\n",
              "    .dataframe tbody tr th {\n",
              "        vertical-align: top;\n",
              "    }\n",
              "\n",
              "    .dataframe thead th {\n",
              "        text-align: right;\n",
              "    }\n",
              "</style>\n",
              "<table border=\"1\" class=\"dataframe\">\n",
              "  <thead>\n",
              "    <tr style=\"text-align: right;\">\n",
              "      <th></th>\n",
              "      <th>VendorID</th>\n",
              "      <th>tpep_pickup_datetime</th>\n",
              "      <th>tpep_dropoff_datetime</th>\n",
              "      <th>passenger_count</th>\n",
              "      <th>PULocationID</th>\n",
              "      <th>DOLocationID</th>\n",
              "      <th>fare_amount</th>\n",
              "    </tr>\n",
              "  </thead>\n",
              "  <tbody>\n",
              "    <tr>\n",
              "      <th>0</th>\n",
              "      <td>1.0</td>\n",
              "      <td>2020-01-01 00:28:15</td>\n",
              "      <td>2020-01-01 00:33:03</td>\n",
              "      <td>1.0</td>\n",
              "      <td>238</td>\n",
              "      <td>239</td>\n",
              "      <td>6.00</td>\n",
              "    </tr>\n",
              "    <tr>\n",
              "      <th>1</th>\n",
              "      <td>1.0</td>\n",
              "      <td>2020-01-01 00:35:39</td>\n",
              "      <td>2020-01-01 00:43:04</td>\n",
              "      <td>1.0</td>\n",
              "      <td>239</td>\n",
              "      <td>238</td>\n",
              "      <td>7.00</td>\n",
              "    </tr>\n",
              "    <tr>\n",
              "      <th>2</th>\n",
              "      <td>1.0</td>\n",
              "      <td>2020-01-01 00:47:41</td>\n",
              "      <td>2020-01-01 00:53:52</td>\n",
              "      <td>1.0</td>\n",
              "      <td>238</td>\n",
              "      <td>238</td>\n",
              "      <td>6.00</td>\n",
              "    </tr>\n",
              "    <tr>\n",
              "      <th>3</th>\n",
              "      <td>1.0</td>\n",
              "      <td>2020-01-01 00:55:23</td>\n",
              "      <td>2020-01-01 01:00:14</td>\n",
              "      <td>1.0</td>\n",
              "      <td>238</td>\n",
              "      <td>151</td>\n",
              "      <td>5.50</td>\n",
              "    </tr>\n",
              "    <tr>\n",
              "      <th>4</th>\n",
              "      <td>2.0</td>\n",
              "      <td>2020-01-01 00:01:58</td>\n",
              "      <td>2020-01-01 00:04:16</td>\n",
              "      <td>1.0</td>\n",
              "      <td>193</td>\n",
              "      <td>193</td>\n",
              "      <td>3.50</td>\n",
              "    </tr>\n",
              "    <tr>\n",
              "      <th>...</th>\n",
              "      <td>...</td>\n",
              "      <td>...</td>\n",
              "      <td>...</td>\n",
              "      <td>...</td>\n",
              "      <td>...</td>\n",
              "      <td>...</td>\n",
              "      <td>...</td>\n",
              "    </tr>\n",
              "    <tr>\n",
              "      <th>1243236</th>\n",
              "      <td>NaN</td>\n",
              "      <td>2020-01-07 09:18:00</td>\n",
              "      <td>2020-01-07 09:55:00</td>\n",
              "      <td>NaN</td>\n",
              "      <td>151</td>\n",
              "      <td>145</td>\n",
              "      <td>28.36</td>\n",
              "    </tr>\n",
              "    <tr>\n",
              "      <th>1243237</th>\n",
              "      <td>NaN</td>\n",
              "      <td>2020-01-07 09:05:00</td>\n",
              "      <td>2020-01-07 09:30:00</td>\n",
              "      <td>NaN</td>\n",
              "      <td>259</td>\n",
              "      <td>78</td>\n",
              "      <td>24.36</td>\n",
              "    </tr>\n",
              "    <tr>\n",
              "      <th>1243238</th>\n",
              "      <td>NaN</td>\n",
              "      <td>2020-01-07 09:05:00</td>\n",
              "      <td>2020-01-07 09:30:00</td>\n",
              "      <td>NaN</td>\n",
              "      <td>259</td>\n",
              "      <td>78</td>\n",
              "      <td>24.36</td>\n",
              "    </tr>\n",
              "    <tr>\n",
              "      <th>1243239</th>\n",
              "      <td>NaN</td>\n",
              "      <td>2020-01-07 09:49:00</td>\n",
              "      <td>2020-01-07 09:58:00</td>\n",
              "      <td>NaN</td>\n",
              "      <td>116</td>\n",
              "      <td>166</td>\n",
              "      <td>20.06</td>\n",
              "    </tr>\n",
              "    <tr>\n",
              "      <th>1243240</th>\n",
              "      <td>NaN</td>\n",
              "      <td>2020-01-07 09:49:00</td>\n",
              "      <td>2020-01-07 09:58:00</td>\n",
              "      <td>NaN</td>\n",
              "      <td>116</td>\n",
              "      <td>166</td>\n",
              "      <td>20.06</td>\n",
              "    </tr>\n",
              "  </tbody>\n",
              "</table>\n",
              "<p>1243241 rows × 7 columns</p>\n",
              "</div>"
            ],
            "text/plain": [
              "         VendorID tpep_pickup_datetime  ... DOLocationID  fare_amount\n",
              "0             1.0  2020-01-01 00:28:15  ...          239         6.00\n",
              "1             1.0  2020-01-01 00:35:39  ...          238         7.00\n",
              "2             1.0  2020-01-01 00:47:41  ...          238         6.00\n",
              "3             1.0  2020-01-01 00:55:23  ...          151         5.50\n",
              "4             2.0  2020-01-01 00:01:58  ...          193         3.50\n",
              "...           ...                  ...  ...          ...          ...\n",
              "1243236       NaN  2020-01-07 09:18:00  ...          145        28.36\n",
              "1243237       NaN  2020-01-07 09:05:00  ...           78        24.36\n",
              "1243238       NaN  2020-01-07 09:05:00  ...           78        24.36\n",
              "1243239       NaN  2020-01-07 09:49:00  ...          166        20.06\n",
              "1243240       NaN  2020-01-07 09:49:00  ...          166        20.06\n",
              "\n",
              "[1243241 rows x 7 columns]"
            ]
          },
          "metadata": {
            "tags": []
          },
          "execution_count": 23
        }
      ]
    },
    {
      "cell_type": "code",
      "metadata": {
        "id": "UwU9MWVtN_WA"
      },
      "source": [
        "new_df = data.loc[(data[\"VendorID\"] == 2) & (data[\"fare_amount\"] < data[\"fare_amount\"].mean()) & (data[\"passenger_count\"] > 5)]\r\n"
      ],
      "execution_count": 37,
      "outputs": []
    },
    {
      "cell_type": "code",
      "metadata": {
        "colab": {
          "base_uri": "https://localhost:8080/",
          "height": 402
        },
        "id": "k1dQhltQQk31",
        "outputId": "774644d9-8c11-49cb-c0d4-62ca0d26302c"
      },
      "source": [
        "new_df.notna()"
      ],
      "execution_count": 39,
      "outputs": [
        {
          "output_type": "execute_result",
          "data": {
            "text/html": [
              "<div>\n",
              "<style scoped>\n",
              "    .dataframe tbody tr th:only-of-type {\n",
              "        vertical-align: middle;\n",
              "    }\n",
              "\n",
              "    .dataframe tbody tr th {\n",
              "        vertical-align: top;\n",
              "    }\n",
              "\n",
              "    .dataframe thead th {\n",
              "        text-align: right;\n",
              "    }\n",
              "</style>\n",
              "<table border=\"1\" class=\"dataframe\">\n",
              "  <thead>\n",
              "    <tr style=\"text-align: right;\">\n",
              "      <th></th>\n",
              "      <th>VendorID</th>\n",
              "      <th>tpep_pickup_datetime</th>\n",
              "      <th>tpep_dropoff_datetime</th>\n",
              "      <th>passenger_count</th>\n",
              "      <th>PULocationID</th>\n",
              "      <th>DOLocationID</th>\n",
              "      <th>fare_amount</th>\n",
              "    </tr>\n",
              "  </thead>\n",
              "  <tbody>\n",
              "    <tr>\n",
              "      <th>195</th>\n",
              "      <td>True</td>\n",
              "      <td>True</td>\n",
              "      <td>True</td>\n",
              "      <td>True</td>\n",
              "      <td>True</td>\n",
              "      <td>True</td>\n",
              "      <td>True</td>\n",
              "    </tr>\n",
              "    <tr>\n",
              "      <th>218</th>\n",
              "      <td>True</td>\n",
              "      <td>True</td>\n",
              "      <td>True</td>\n",
              "      <td>True</td>\n",
              "      <td>True</td>\n",
              "      <td>True</td>\n",
              "      <td>True</td>\n",
              "    </tr>\n",
              "    <tr>\n",
              "      <th>219</th>\n",
              "      <td>True</td>\n",
              "      <td>True</td>\n",
              "      <td>True</td>\n",
              "      <td>True</td>\n",
              "      <td>True</td>\n",
              "      <td>True</td>\n",
              "      <td>True</td>\n",
              "    </tr>\n",
              "    <tr>\n",
              "      <th>220</th>\n",
              "      <td>True</td>\n",
              "      <td>True</td>\n",
              "      <td>True</td>\n",
              "      <td>True</td>\n",
              "      <td>True</td>\n",
              "      <td>True</td>\n",
              "      <td>True</td>\n",
              "    </tr>\n",
              "    <tr>\n",
              "      <th>453</th>\n",
              "      <td>True</td>\n",
              "      <td>True</td>\n",
              "      <td>True</td>\n",
              "      <td>True</td>\n",
              "      <td>True</td>\n",
              "      <td>True</td>\n",
              "      <td>True</td>\n",
              "    </tr>\n",
              "    <tr>\n",
              "      <th>...</th>\n",
              "      <td>...</td>\n",
              "      <td>...</td>\n",
              "      <td>...</td>\n",
              "      <td>...</td>\n",
              "      <td>...</td>\n",
              "      <td>...</td>\n",
              "      <td>...</td>\n",
              "    </tr>\n",
              "    <tr>\n",
              "      <th>1227569</th>\n",
              "      <td>True</td>\n",
              "      <td>True</td>\n",
              "      <td>True</td>\n",
              "      <td>True</td>\n",
              "      <td>True</td>\n",
              "      <td>True</td>\n",
              "      <td>True</td>\n",
              "    </tr>\n",
              "    <tr>\n",
              "      <th>1227576</th>\n",
              "      <td>True</td>\n",
              "      <td>True</td>\n",
              "      <td>True</td>\n",
              "      <td>True</td>\n",
              "      <td>True</td>\n",
              "      <td>True</td>\n",
              "      <td>True</td>\n",
              "    </tr>\n",
              "    <tr>\n",
              "      <th>1227577</th>\n",
              "      <td>True</td>\n",
              "      <td>True</td>\n",
              "      <td>True</td>\n",
              "      <td>True</td>\n",
              "      <td>True</td>\n",
              "      <td>True</td>\n",
              "      <td>True</td>\n",
              "    </tr>\n",
              "    <tr>\n",
              "      <th>1227592</th>\n",
              "      <td>True</td>\n",
              "      <td>True</td>\n",
              "      <td>True</td>\n",
              "      <td>True</td>\n",
              "      <td>True</td>\n",
              "      <td>True</td>\n",
              "      <td>True</td>\n",
              "    </tr>\n",
              "    <tr>\n",
              "      <th>1227611</th>\n",
              "      <td>True</td>\n",
              "      <td>True</td>\n",
              "      <td>True</td>\n",
              "      <td>True</td>\n",
              "      <td>True</td>\n",
              "      <td>True</td>\n",
              "      <td>True</td>\n",
              "    </tr>\n",
              "  </tbody>\n",
              "</table>\n",
              "<p>19443 rows × 7 columns</p>\n",
              "</div>"
            ],
            "text/plain": [
              "         VendorID  tpep_pickup_datetime  ...  DOLocationID  fare_amount\n",
              "195          True                  True  ...          True         True\n",
              "218          True                  True  ...          True         True\n",
              "219          True                  True  ...          True         True\n",
              "220          True                  True  ...          True         True\n",
              "453          True                  True  ...          True         True\n",
              "...           ...                   ...  ...           ...          ...\n",
              "1227569      True                  True  ...          True         True\n",
              "1227576      True                  True  ...          True         True\n",
              "1227577      True                  True  ...          True         True\n",
              "1227592      True                  True  ...          True         True\n",
              "1227611      True                  True  ...          True         True\n",
              "\n",
              "[19443 rows x 7 columns]"
            ]
          },
          "metadata": {
            "tags": []
          },
          "execution_count": 39
        }
      ]
    },
    {
      "cell_type": "code",
      "metadata": {
        "colab": {
          "base_uri": "https://localhost:8080/"
        },
        "id": "SaCVO3pqQvl7",
        "outputId": "9b2c11df-c074-40c3-8bce-b2d2d5b1a52c"
      },
      "source": [
        "new_df[\"fare_amount\"].mean()"
      ],
      "execution_count": 40,
      "outputs": [
        {
          "output_type": "execute_result",
          "data": {
            "text/plain": [
              "7.63299490819318"
            ]
          },
          "metadata": {
            "tags": []
          },
          "execution_count": 40
        }
      ]
    },
    {
      "cell_type": "code",
      "metadata": {
        "colab": {
          "base_uri": "https://localhost:8080/"
        },
        "id": "QtyN1agkRAgk",
        "outputId": "81d38d2b-d92c-4a0c-c5e3-e69a7699b0cc"
      },
      "source": [
        "new_df[\"passenger_count\"].mean()"
      ],
      "execution_count": 41,
      "outputs": [
        {
          "output_type": "execute_result",
          "data": {
            "text/plain": [
              "6.000257161960603"
            ]
          },
          "metadata": {
            "tags": []
          },
          "execution_count": 41
        }
      ]
    },
    {
      "cell_type": "code",
      "metadata": {
        "colab": {
          "base_uri": "https://localhost:8080/"
        },
        "id": "RupVeD1ZRLZ5",
        "outputId": "9ced8e43-b66c-427f-9260-535cea0a403c"
      },
      "source": [
        "new_df[\"fare_amount\"].median()"
      ],
      "execution_count": 42,
      "outputs": [
        {
          "output_type": "execute_result",
          "data": {
            "text/plain": [
              "7.5"
            ]
          },
          "metadata": {
            "tags": []
          },
          "execution_count": 42
        }
      ]
    },
    {
      "cell_type": "code",
      "metadata": {
        "colab": {
          "base_uri": "https://localhost:8080/",
          "height": 402
        },
        "id": "ecZzCdSeRkUj",
        "outputId": "35360e18-d846-4c6e-8d69-3c3e7a64d544"
      },
      "source": [
        "data\r\n"
      ],
      "execution_count": 43,
      "outputs": [
        {
          "output_type": "execute_result",
          "data": {
            "text/html": [
              "<div>\n",
              "<style scoped>\n",
              "    .dataframe tbody tr th:only-of-type {\n",
              "        vertical-align: middle;\n",
              "    }\n",
              "\n",
              "    .dataframe tbody tr th {\n",
              "        vertical-align: top;\n",
              "    }\n",
              "\n",
              "    .dataframe thead th {\n",
              "        text-align: right;\n",
              "    }\n",
              "</style>\n",
              "<table border=\"1\" class=\"dataframe\">\n",
              "  <thead>\n",
              "    <tr style=\"text-align: right;\">\n",
              "      <th></th>\n",
              "      <th>VendorID</th>\n",
              "      <th>tpep_pickup_datetime</th>\n",
              "      <th>tpep_dropoff_datetime</th>\n",
              "      <th>passenger_count</th>\n",
              "      <th>PULocationID</th>\n",
              "      <th>DOLocationID</th>\n",
              "      <th>fare_amount</th>\n",
              "    </tr>\n",
              "  </thead>\n",
              "  <tbody>\n",
              "    <tr>\n",
              "      <th>0</th>\n",
              "      <td>1.0</td>\n",
              "      <td>2020-01-01 00:28:15</td>\n",
              "      <td>2020-01-01 00:33:03</td>\n",
              "      <td>1.0</td>\n",
              "      <td>238</td>\n",
              "      <td>239</td>\n",
              "      <td>6.00</td>\n",
              "    </tr>\n",
              "    <tr>\n",
              "      <th>1</th>\n",
              "      <td>1.0</td>\n",
              "      <td>2020-01-01 00:35:39</td>\n",
              "      <td>2020-01-01 00:43:04</td>\n",
              "      <td>1.0</td>\n",
              "      <td>239</td>\n",
              "      <td>238</td>\n",
              "      <td>7.00</td>\n",
              "    </tr>\n",
              "    <tr>\n",
              "      <th>2</th>\n",
              "      <td>1.0</td>\n",
              "      <td>2020-01-01 00:47:41</td>\n",
              "      <td>2020-01-01 00:53:52</td>\n",
              "      <td>1.0</td>\n",
              "      <td>238</td>\n",
              "      <td>238</td>\n",
              "      <td>6.00</td>\n",
              "    </tr>\n",
              "    <tr>\n",
              "      <th>3</th>\n",
              "      <td>1.0</td>\n",
              "      <td>2020-01-01 00:55:23</td>\n",
              "      <td>2020-01-01 01:00:14</td>\n",
              "      <td>1.0</td>\n",
              "      <td>238</td>\n",
              "      <td>151</td>\n",
              "      <td>5.50</td>\n",
              "    </tr>\n",
              "    <tr>\n",
              "      <th>4</th>\n",
              "      <td>2.0</td>\n",
              "      <td>2020-01-01 00:01:58</td>\n",
              "      <td>2020-01-01 00:04:16</td>\n",
              "      <td>1.0</td>\n",
              "      <td>193</td>\n",
              "      <td>193</td>\n",
              "      <td>3.50</td>\n",
              "    </tr>\n",
              "    <tr>\n",
              "      <th>...</th>\n",
              "      <td>...</td>\n",
              "      <td>...</td>\n",
              "      <td>...</td>\n",
              "      <td>...</td>\n",
              "      <td>...</td>\n",
              "      <td>...</td>\n",
              "      <td>...</td>\n",
              "    </tr>\n",
              "    <tr>\n",
              "      <th>1243236</th>\n",
              "      <td>NaN</td>\n",
              "      <td>2020-01-07 09:18:00</td>\n",
              "      <td>2020-01-07 09:55:00</td>\n",
              "      <td>NaN</td>\n",
              "      <td>151</td>\n",
              "      <td>145</td>\n",
              "      <td>28.36</td>\n",
              "    </tr>\n",
              "    <tr>\n",
              "      <th>1243237</th>\n",
              "      <td>NaN</td>\n",
              "      <td>2020-01-07 09:05:00</td>\n",
              "      <td>2020-01-07 09:30:00</td>\n",
              "      <td>NaN</td>\n",
              "      <td>259</td>\n",
              "      <td>78</td>\n",
              "      <td>24.36</td>\n",
              "    </tr>\n",
              "    <tr>\n",
              "      <th>1243238</th>\n",
              "      <td>NaN</td>\n",
              "      <td>2020-01-07 09:05:00</td>\n",
              "      <td>2020-01-07 09:30:00</td>\n",
              "      <td>NaN</td>\n",
              "      <td>259</td>\n",
              "      <td>78</td>\n",
              "      <td>24.36</td>\n",
              "    </tr>\n",
              "    <tr>\n",
              "      <th>1243239</th>\n",
              "      <td>NaN</td>\n",
              "      <td>2020-01-07 09:49:00</td>\n",
              "      <td>2020-01-07 09:58:00</td>\n",
              "      <td>NaN</td>\n",
              "      <td>116</td>\n",
              "      <td>166</td>\n",
              "      <td>20.06</td>\n",
              "    </tr>\n",
              "    <tr>\n",
              "      <th>1243240</th>\n",
              "      <td>NaN</td>\n",
              "      <td>2020-01-07 09:49:00</td>\n",
              "      <td>2020-01-07 09:58:00</td>\n",
              "      <td>NaN</td>\n",
              "      <td>116</td>\n",
              "      <td>166</td>\n",
              "      <td>20.06</td>\n",
              "    </tr>\n",
              "  </tbody>\n",
              "</table>\n",
              "<p>1243241 rows × 7 columns</p>\n",
              "</div>"
            ],
            "text/plain": [
              "         VendorID tpep_pickup_datetime  ... DOLocationID  fare_amount\n",
              "0             1.0  2020-01-01 00:28:15  ...          239         6.00\n",
              "1             1.0  2020-01-01 00:35:39  ...          238         7.00\n",
              "2             1.0  2020-01-01 00:47:41  ...          238         6.00\n",
              "3             1.0  2020-01-01 00:55:23  ...          151         5.50\n",
              "4             2.0  2020-01-01 00:01:58  ...          193         3.50\n",
              "...           ...                  ...  ...          ...          ...\n",
              "1243236       NaN  2020-01-07 09:18:00  ...          145        28.36\n",
              "1243237       NaN  2020-01-07 09:05:00  ...           78        24.36\n",
              "1243238       NaN  2020-01-07 09:05:00  ...           78        24.36\n",
              "1243239       NaN  2020-01-07 09:49:00  ...          166        20.06\n",
              "1243240       NaN  2020-01-07 09:49:00  ...          166        20.06\n",
              "\n",
              "[1243241 rows x 7 columns]"
            ]
          },
          "metadata": {
            "tags": []
          },
          "execution_count": 43
        }
      ]
    },
    {
      "cell_type": "code",
      "metadata": {
        "id": "hU_Z6M0lRmxj"
      },
      "source": [
        "data['tpep_pickup_datetime'] = pd.to_datetime(data['tpep_pickup_datetime']).dt.date"
      ],
      "execution_count": 69,
      "outputs": []
    },
    {
      "cell_type": "code",
      "metadata": {
        "id": "-wwwMCPoXtsv"
      },
      "source": [
        "data['tpep_dropoff_datetime'] = pd.to_datetime(data['tpep_dropoff_datetime']).dt.date"
      ],
      "execution_count": 73,
      "outputs": []
    },
    {
      "cell_type": "code",
      "metadata": {
        "colab": {
          "base_uri": "https://localhost:8080/",
          "height": 402
        },
        "id": "5TUaVAkEXZeu",
        "outputId": "c0f8f9bb-c796-4b8a-c53c-50b806e7ea14"
      },
      "source": [
        "data"
      ],
      "execution_count": 74,
      "outputs": [
        {
          "output_type": "execute_result",
          "data": {
            "text/html": [
              "<div>\n",
              "<style scoped>\n",
              "    .dataframe tbody tr th:only-of-type {\n",
              "        vertical-align: middle;\n",
              "    }\n",
              "\n",
              "    .dataframe tbody tr th {\n",
              "        vertical-align: top;\n",
              "    }\n",
              "\n",
              "    .dataframe thead th {\n",
              "        text-align: right;\n",
              "    }\n",
              "</style>\n",
              "<table border=\"1\" class=\"dataframe\">\n",
              "  <thead>\n",
              "    <tr style=\"text-align: right;\">\n",
              "      <th></th>\n",
              "      <th>VendorID</th>\n",
              "      <th>tpep_pickup_datetime</th>\n",
              "      <th>tpep_dropoff_datetime</th>\n",
              "      <th>passenger_count</th>\n",
              "      <th>PULocationID</th>\n",
              "      <th>DOLocationID</th>\n",
              "      <th>fare_amount</th>\n",
              "    </tr>\n",
              "  </thead>\n",
              "  <tbody>\n",
              "    <tr>\n",
              "      <th>0</th>\n",
              "      <td>1.0</td>\n",
              "      <td>2020-01-01</td>\n",
              "      <td>2020-01-01</td>\n",
              "      <td>1.0</td>\n",
              "      <td>238</td>\n",
              "      <td>239</td>\n",
              "      <td>6.00</td>\n",
              "    </tr>\n",
              "    <tr>\n",
              "      <th>1</th>\n",
              "      <td>1.0</td>\n",
              "      <td>2020-01-01</td>\n",
              "      <td>2020-01-01</td>\n",
              "      <td>1.0</td>\n",
              "      <td>239</td>\n",
              "      <td>238</td>\n",
              "      <td>7.00</td>\n",
              "    </tr>\n",
              "    <tr>\n",
              "      <th>2</th>\n",
              "      <td>1.0</td>\n",
              "      <td>2020-01-01</td>\n",
              "      <td>2020-01-01</td>\n",
              "      <td>1.0</td>\n",
              "      <td>238</td>\n",
              "      <td>238</td>\n",
              "      <td>6.00</td>\n",
              "    </tr>\n",
              "    <tr>\n",
              "      <th>3</th>\n",
              "      <td>1.0</td>\n",
              "      <td>2020-01-01</td>\n",
              "      <td>2020-01-01</td>\n",
              "      <td>1.0</td>\n",
              "      <td>238</td>\n",
              "      <td>151</td>\n",
              "      <td>5.50</td>\n",
              "    </tr>\n",
              "    <tr>\n",
              "      <th>4</th>\n",
              "      <td>2.0</td>\n",
              "      <td>2020-01-01</td>\n",
              "      <td>2020-01-01</td>\n",
              "      <td>1.0</td>\n",
              "      <td>193</td>\n",
              "      <td>193</td>\n",
              "      <td>3.50</td>\n",
              "    </tr>\n",
              "    <tr>\n",
              "      <th>...</th>\n",
              "      <td>...</td>\n",
              "      <td>...</td>\n",
              "      <td>...</td>\n",
              "      <td>...</td>\n",
              "      <td>...</td>\n",
              "      <td>...</td>\n",
              "      <td>...</td>\n",
              "    </tr>\n",
              "    <tr>\n",
              "      <th>1243236</th>\n",
              "      <td>NaN</td>\n",
              "      <td>2020-01-07</td>\n",
              "      <td>2020-01-07</td>\n",
              "      <td>NaN</td>\n",
              "      <td>151</td>\n",
              "      <td>145</td>\n",
              "      <td>28.36</td>\n",
              "    </tr>\n",
              "    <tr>\n",
              "      <th>1243237</th>\n",
              "      <td>NaN</td>\n",
              "      <td>2020-01-07</td>\n",
              "      <td>2020-01-07</td>\n",
              "      <td>NaN</td>\n",
              "      <td>259</td>\n",
              "      <td>78</td>\n",
              "      <td>24.36</td>\n",
              "    </tr>\n",
              "    <tr>\n",
              "      <th>1243238</th>\n",
              "      <td>NaN</td>\n",
              "      <td>2020-01-07</td>\n",
              "      <td>2020-01-07</td>\n",
              "      <td>NaN</td>\n",
              "      <td>259</td>\n",
              "      <td>78</td>\n",
              "      <td>24.36</td>\n",
              "    </tr>\n",
              "    <tr>\n",
              "      <th>1243239</th>\n",
              "      <td>NaN</td>\n",
              "      <td>2020-01-07</td>\n",
              "      <td>2020-01-07</td>\n",
              "      <td>NaN</td>\n",
              "      <td>116</td>\n",
              "      <td>166</td>\n",
              "      <td>20.06</td>\n",
              "    </tr>\n",
              "    <tr>\n",
              "      <th>1243240</th>\n",
              "      <td>NaN</td>\n",
              "      <td>2020-01-07</td>\n",
              "      <td>2020-01-07</td>\n",
              "      <td>NaN</td>\n",
              "      <td>116</td>\n",
              "      <td>166</td>\n",
              "      <td>20.06</td>\n",
              "    </tr>\n",
              "  </tbody>\n",
              "</table>\n",
              "<p>1243241 rows × 7 columns</p>\n",
              "</div>"
            ],
            "text/plain": [
              "         VendorID tpep_pickup_datetime  ... DOLocationID  fare_amount\n",
              "0             1.0           2020-01-01  ...          239         6.00\n",
              "1             1.0           2020-01-01  ...          238         7.00\n",
              "2             1.0           2020-01-01  ...          238         6.00\n",
              "3             1.0           2020-01-01  ...          151         5.50\n",
              "4             2.0           2020-01-01  ...          193         3.50\n",
              "...           ...                  ...  ...          ...          ...\n",
              "1243236       NaN           2020-01-07  ...          145        28.36\n",
              "1243237       NaN           2020-01-07  ...           78        24.36\n",
              "1243238       NaN           2020-01-07  ...           78        24.36\n",
              "1243239       NaN           2020-01-07  ...          166        20.06\n",
              "1243240       NaN           2020-01-07  ...          166        20.06\n",
              "\n",
              "[1243241 rows x 7 columns]"
            ]
          },
          "metadata": {
            "tags": []
          },
          "execution_count": 74
        }
      ]
    },
    {
      "cell_type": "code",
      "metadata": {
        "colab": {
          "base_uri": "https://localhost:8080/"
        },
        "id": "dNx4mgHOXhMX",
        "outputId": "6bf9531f-110d-44ab-d4eb-9bb215b9d71b"
      },
      "source": [
        "data['tpep_pickup_datetime'].value_counts()"
      ],
      "execution_count": 71,
      "outputs": [
        {
          "output_type": "execute_result",
          "data": {
            "text/plain": [
              "2020-01-07    201520\n",
              "2020-01-03    183477\n",
              "2020-01-04    182752\n",
              "2020-01-06    179515\n",
              "2020-01-01    169437\n",
              "2020-01-05    164399\n",
              "2020-01-02    162141\n",
              "Name: tpep_pickup_datetime, dtype: int64"
            ]
          },
          "metadata": {
            "tags": []
          },
          "execution_count": 71
        }
      ]
    },
    {
      "cell_type": "code",
      "metadata": {
        "colab": {
          "base_uri": "https://localhost:8080/"
        },
        "id": "D5TFAUXYXyp3",
        "outputId": "8c17357c-3120-4abf-bc06-fa4bf27d333c"
      },
      "source": [
        "data['tpep_dropoff_datetime'].value_counts()"
      ],
      "execution_count": 75,
      "outputs": [
        {
          "output_type": "execute_result",
          "data": {
            "text/plain": [
              "2020-01-07    201286\n",
              "2020-01-03    182810\n",
              "2020-01-04    182314\n",
              "2020-01-06    179696\n",
              "2020-01-01    168195\n",
              "2020-01-05    165612\n",
              "2020-01-02    162052\n",
              "2020-01-08      1275\n",
              "2020-01-09         1\n",
              "Name: tpep_dropoff_datetime, dtype: int64"
            ]
          },
          "metadata": {
            "tags": []
          },
          "execution_count": 75
        }
      ]
    },
    {
      "cell_type": "code",
      "metadata": {
        "colab": {
          "base_uri": "https://localhost:8080/"
        },
        "id": "Gof-0_KkYCMa",
        "outputId": "2ff10b2f-4013-4cd3-f794-5a6af01db09f"
      },
      "source": [
        "data['same_day'] = data['tpep_pickup_datetime'] - data['tpep_dropoff_datetime']\r\n",
        "data.notna()\r\n",
        "data['same_day'].value_counts()"
      ],
      "execution_count": 80,
      "outputs": [
        {
          "output_type": "execute_result",
          "data": {
            "text/plain": [
              "0 days     1232694\n",
              "-1 days      10542\n",
              "-2 days          3\n",
              "2 days           1\n",
              "-3 days          1\n",
              "Name: same_day, dtype: int64"
            ]
          },
          "metadata": {
            "tags": []
          },
          "execution_count": 80
        }
      ]
    },
    {
      "cell_type": "code",
      "metadata": {
        "id": "rJlQ_vmtYrLg"
      },
      "source": [
        ""
      ],
      "execution_count": null,
      "outputs": []
    },
    {
      "cell_type": "code",
      "metadata": {
        "colab": {
          "base_uri": "https://localhost:8080/",
          "height": 77
        },
        "id": "zL9Qm1e-R1gM",
        "outputId": "30f5e026-b10c-44f6-b9b3-8e55d3572aab"
      },
      "source": [
        "date = pd.DataFrame({'inputDate':['2020-01-07']}) \r\n",
        "date['inputDate'] = pd.to_datetime(date['inputDate']) \r\n",
        "date['dayOfWeek'] = date['inputDate'].dt.day_name() \r\n",
        "date\r\n"
      ],
      "execution_count": 72,
      "outputs": [
        {
          "output_type": "execute_result",
          "data": {
            "text/html": [
              "<div>\n",
              "<style scoped>\n",
              "    .dataframe tbody tr th:only-of-type {\n",
              "        vertical-align: middle;\n",
              "    }\n",
              "\n",
              "    .dataframe tbody tr th {\n",
              "        vertical-align: top;\n",
              "    }\n",
              "\n",
              "    .dataframe thead th {\n",
              "        text-align: right;\n",
              "    }\n",
              "</style>\n",
              "<table border=\"1\" class=\"dataframe\">\n",
              "  <thead>\n",
              "    <tr style=\"text-align: right;\">\n",
              "      <th></th>\n",
              "      <th>inputDate</th>\n",
              "      <th>dayOfWeek</th>\n",
              "    </tr>\n",
              "  </thead>\n",
              "  <tbody>\n",
              "    <tr>\n",
              "      <th>0</th>\n",
              "      <td>2020-01-07</td>\n",
              "      <td>Tuesday</td>\n",
              "    </tr>\n",
              "  </tbody>\n",
              "</table>\n",
              "</div>"
            ],
            "text/plain": [
              "   inputDate dayOfWeek\n",
              "0 2020-01-07   Tuesday"
            ]
          },
          "metadata": {
            "tags": []
          },
          "execution_count": 72
        }
      ]
    },
    {
      "cell_type": "code",
      "metadata": {
        "id": "RoKS1PguYw-j"
      },
      "source": [
        "url = 'https://drive.google.com/file/d/1QcKzIJlO6WRUH4IkrKAvDmBVEipXkeQb/view?usp=sharing'\r\n",
        "\r\n",
        "path = 'https://drive.google.com/uc?export=download&id='+url.split('/')[-2]\r\n",
        "data1 = pd.read_csv(path)"
      ],
      "execution_count": 83,
      "outputs": []
    },
    {
      "cell_type": "code",
      "metadata": {
        "colab": {
          "base_uri": "https://localhost:8080/"
        },
        "id": "3EMOhmYtZCHL",
        "outputId": "fa925771-11c3-45da-a296-cc5b22a44be2"
      },
      "source": [
        "data1['passenger_count'].value_counts().max()"
      ],
      "execution_count": 85,
      "outputs": [
        {
          "output_type": "execute_result",
          "data": {
            "text/plain": [
              "847452"
            ]
          },
          "metadata": {
            "tags": []
          },
          "execution_count": 85
        }
      ]
    },
    {
      "cell_type": "code",
      "metadata": {
        "colab": {
          "base_uri": "https://localhost:8080/"
        },
        "id": "0GF-r5DlZ5tO",
        "outputId": "e125a817-4168-4c0c-8d3b-db4db9797019"
      },
      "source": [
        "data1['passenger_count'].median()"
      ],
      "execution_count": 86,
      "outputs": [
        {
          "output_type": "execute_result",
          "data": {
            "text/plain": [
              "1.0"
            ]
          },
          "metadata": {
            "tags": []
          },
          "execution_count": 86
        }
      ]
    },
    {
      "cell_type": "code",
      "metadata": {
        "id": "2v2ccf8UZ-OH"
      },
      "source": [
        "\r\n",
        "data2 = data1\r\n",
        "data2\r\n",
        "values = {'passenger_count':847452}"
      ],
      "execution_count": 88,
      "outputs": []
    },
    {
      "cell_type": "code",
      "metadata": {
        "colab": {
          "base_uri": "https://localhost:8080/",
          "height": 402
        },
        "id": "GFr6oz8yaTkD",
        "outputId": "c3e738f5-5c8f-4395-b802-dc919975c469"
      },
      "source": [
        "data2.fillna(value=values)"
      ],
      "execution_count": 90,
      "outputs": [
        {
          "output_type": "execute_result",
          "data": {
            "text/html": [
              "<div>\n",
              "<style scoped>\n",
              "    .dataframe tbody tr th:only-of-type {\n",
              "        vertical-align: middle;\n",
              "    }\n",
              "\n",
              "    .dataframe tbody tr th {\n",
              "        vertical-align: top;\n",
              "    }\n",
              "\n",
              "    .dataframe thead th {\n",
              "        text-align: right;\n",
              "    }\n",
              "</style>\n",
              "<table border=\"1\" class=\"dataframe\">\n",
              "  <thead>\n",
              "    <tr style=\"text-align: right;\">\n",
              "      <th></th>\n",
              "      <th>VendorID</th>\n",
              "      <th>tpep_pickup_datetime</th>\n",
              "      <th>tpep_dropoff_datetime</th>\n",
              "      <th>passenger_count</th>\n",
              "      <th>PULocationID</th>\n",
              "      <th>DOLocationID</th>\n",
              "      <th>fare_amount</th>\n",
              "    </tr>\n",
              "  </thead>\n",
              "  <tbody>\n",
              "    <tr>\n",
              "      <th>0</th>\n",
              "      <td>1.0</td>\n",
              "      <td>2020-01-01 00:28:15</td>\n",
              "      <td>2020-01-01 00:33:03</td>\n",
              "      <td>1.0</td>\n",
              "      <td>238</td>\n",
              "      <td>239</td>\n",
              "      <td>6.00</td>\n",
              "    </tr>\n",
              "    <tr>\n",
              "      <th>1</th>\n",
              "      <td>1.0</td>\n",
              "      <td>2020-01-01 00:35:39</td>\n",
              "      <td>2020-01-01 00:43:04</td>\n",
              "      <td>1.0</td>\n",
              "      <td>239</td>\n",
              "      <td>238</td>\n",
              "      <td>7.00</td>\n",
              "    </tr>\n",
              "    <tr>\n",
              "      <th>2</th>\n",
              "      <td>1.0</td>\n",
              "      <td>2020-01-01 00:47:41</td>\n",
              "      <td>2020-01-01 00:53:52</td>\n",
              "      <td>1.0</td>\n",
              "      <td>238</td>\n",
              "      <td>238</td>\n",
              "      <td>6.00</td>\n",
              "    </tr>\n",
              "    <tr>\n",
              "      <th>3</th>\n",
              "      <td>1.0</td>\n",
              "      <td>2020-01-01 00:55:23</td>\n",
              "      <td>2020-01-01 01:00:14</td>\n",
              "      <td>1.0</td>\n",
              "      <td>238</td>\n",
              "      <td>151</td>\n",
              "      <td>5.50</td>\n",
              "    </tr>\n",
              "    <tr>\n",
              "      <th>4</th>\n",
              "      <td>2.0</td>\n",
              "      <td>2020-01-01 00:01:58</td>\n",
              "      <td>2020-01-01 00:04:16</td>\n",
              "      <td>1.0</td>\n",
              "      <td>193</td>\n",
              "      <td>193</td>\n",
              "      <td>3.50</td>\n",
              "    </tr>\n",
              "    <tr>\n",
              "      <th>...</th>\n",
              "      <td>...</td>\n",
              "      <td>...</td>\n",
              "      <td>...</td>\n",
              "      <td>...</td>\n",
              "      <td>...</td>\n",
              "      <td>...</td>\n",
              "      <td>...</td>\n",
              "    </tr>\n",
              "    <tr>\n",
              "      <th>1243236</th>\n",
              "      <td>NaN</td>\n",
              "      <td>2020-01-07 09:18:00</td>\n",
              "      <td>2020-01-07 09:55:00</td>\n",
              "      <td>847452.0</td>\n",
              "      <td>151</td>\n",
              "      <td>145</td>\n",
              "      <td>28.36</td>\n",
              "    </tr>\n",
              "    <tr>\n",
              "      <th>1243237</th>\n",
              "      <td>NaN</td>\n",
              "      <td>2020-01-07 09:05:00</td>\n",
              "      <td>2020-01-07 09:30:00</td>\n",
              "      <td>847452.0</td>\n",
              "      <td>259</td>\n",
              "      <td>78</td>\n",
              "      <td>24.36</td>\n",
              "    </tr>\n",
              "    <tr>\n",
              "      <th>1243238</th>\n",
              "      <td>NaN</td>\n",
              "      <td>2020-01-07 09:05:00</td>\n",
              "      <td>2020-01-07 09:30:00</td>\n",
              "      <td>847452.0</td>\n",
              "      <td>259</td>\n",
              "      <td>78</td>\n",
              "      <td>24.36</td>\n",
              "    </tr>\n",
              "    <tr>\n",
              "      <th>1243239</th>\n",
              "      <td>NaN</td>\n",
              "      <td>2020-01-07 09:49:00</td>\n",
              "      <td>2020-01-07 09:58:00</td>\n",
              "      <td>847452.0</td>\n",
              "      <td>116</td>\n",
              "      <td>166</td>\n",
              "      <td>20.06</td>\n",
              "    </tr>\n",
              "    <tr>\n",
              "      <th>1243240</th>\n",
              "      <td>NaN</td>\n",
              "      <td>2020-01-07 09:49:00</td>\n",
              "      <td>2020-01-07 09:58:00</td>\n",
              "      <td>847452.0</td>\n",
              "      <td>116</td>\n",
              "      <td>166</td>\n",
              "      <td>20.06</td>\n",
              "    </tr>\n",
              "  </tbody>\n",
              "</table>\n",
              "<p>1243241 rows × 7 columns</p>\n",
              "</div>"
            ],
            "text/plain": [
              "         VendorID tpep_pickup_datetime  ... DOLocationID  fare_amount\n",
              "0             1.0  2020-01-01 00:28:15  ...          239         6.00\n",
              "1             1.0  2020-01-01 00:35:39  ...          238         7.00\n",
              "2             1.0  2020-01-01 00:47:41  ...          238         6.00\n",
              "3             1.0  2020-01-01 00:55:23  ...          151         5.50\n",
              "4             2.0  2020-01-01 00:01:58  ...          193         3.50\n",
              "...           ...                  ...  ...          ...          ...\n",
              "1243236       NaN  2020-01-07 09:18:00  ...          145        28.36\n",
              "1243237       NaN  2020-01-07 09:05:00  ...           78        24.36\n",
              "1243238       NaN  2020-01-07 09:05:00  ...           78        24.36\n",
              "1243239       NaN  2020-01-07 09:49:00  ...          166        20.06\n",
              "1243240       NaN  2020-01-07 09:49:00  ...          166        20.06\n",
              "\n",
              "[1243241 rows x 7 columns]"
            ]
          },
          "metadata": {
            "tags": []
          },
          "execution_count": 90
        }
      ]
    },
    {
      "cell_type": "code",
      "metadata": {
        "colab": {
          "base_uri": "https://localhost:8080/"
        },
        "id": "5DZcGT9EaiHu",
        "outputId": "b5734cd0-a9c9-4bae-ab60-7937c63720e5"
      },
      "source": [
        "data2['passenger_count'].median()"
      ],
      "execution_count": 91,
      "outputs": [
        {
          "output_type": "execute_result",
          "data": {
            "text/plain": [
              "1.0"
            ]
          },
          "metadata": {
            "tags": []
          },
          "execution_count": 91
        }
      ]
    },
    {
      "cell_type": "code",
      "metadata": {
        "colab": {
          "base_uri": "https://localhost:8080/",
          "height": 402
        },
        "id": "BeDywBIOauVf",
        "outputId": "55c3a829-db8b-4c03-ee72-527447f74a5d"
      },
      "source": [
        "data3 = data1\r\n",
        "data3\r\n",
        "values = {'passenger_count':1.0}\r\n",
        "data3.fillna(value=values)"
      ],
      "execution_count": 92,
      "outputs": [
        {
          "output_type": "execute_result",
          "data": {
            "text/html": [
              "<div>\n",
              "<style scoped>\n",
              "    .dataframe tbody tr th:only-of-type {\n",
              "        vertical-align: middle;\n",
              "    }\n",
              "\n",
              "    .dataframe tbody tr th {\n",
              "        vertical-align: top;\n",
              "    }\n",
              "\n",
              "    .dataframe thead th {\n",
              "        text-align: right;\n",
              "    }\n",
              "</style>\n",
              "<table border=\"1\" class=\"dataframe\">\n",
              "  <thead>\n",
              "    <tr style=\"text-align: right;\">\n",
              "      <th></th>\n",
              "      <th>VendorID</th>\n",
              "      <th>tpep_pickup_datetime</th>\n",
              "      <th>tpep_dropoff_datetime</th>\n",
              "      <th>passenger_count</th>\n",
              "      <th>PULocationID</th>\n",
              "      <th>DOLocationID</th>\n",
              "      <th>fare_amount</th>\n",
              "    </tr>\n",
              "  </thead>\n",
              "  <tbody>\n",
              "    <tr>\n",
              "      <th>0</th>\n",
              "      <td>1.0</td>\n",
              "      <td>2020-01-01 00:28:15</td>\n",
              "      <td>2020-01-01 00:33:03</td>\n",
              "      <td>1.0</td>\n",
              "      <td>238</td>\n",
              "      <td>239</td>\n",
              "      <td>6.00</td>\n",
              "    </tr>\n",
              "    <tr>\n",
              "      <th>1</th>\n",
              "      <td>1.0</td>\n",
              "      <td>2020-01-01 00:35:39</td>\n",
              "      <td>2020-01-01 00:43:04</td>\n",
              "      <td>1.0</td>\n",
              "      <td>239</td>\n",
              "      <td>238</td>\n",
              "      <td>7.00</td>\n",
              "    </tr>\n",
              "    <tr>\n",
              "      <th>2</th>\n",
              "      <td>1.0</td>\n",
              "      <td>2020-01-01 00:47:41</td>\n",
              "      <td>2020-01-01 00:53:52</td>\n",
              "      <td>1.0</td>\n",
              "      <td>238</td>\n",
              "      <td>238</td>\n",
              "      <td>6.00</td>\n",
              "    </tr>\n",
              "    <tr>\n",
              "      <th>3</th>\n",
              "      <td>1.0</td>\n",
              "      <td>2020-01-01 00:55:23</td>\n",
              "      <td>2020-01-01 01:00:14</td>\n",
              "      <td>1.0</td>\n",
              "      <td>238</td>\n",
              "      <td>151</td>\n",
              "      <td>5.50</td>\n",
              "    </tr>\n",
              "    <tr>\n",
              "      <th>4</th>\n",
              "      <td>2.0</td>\n",
              "      <td>2020-01-01 00:01:58</td>\n",
              "      <td>2020-01-01 00:04:16</td>\n",
              "      <td>1.0</td>\n",
              "      <td>193</td>\n",
              "      <td>193</td>\n",
              "      <td>3.50</td>\n",
              "    </tr>\n",
              "    <tr>\n",
              "      <th>...</th>\n",
              "      <td>...</td>\n",
              "      <td>...</td>\n",
              "      <td>...</td>\n",
              "      <td>...</td>\n",
              "      <td>...</td>\n",
              "      <td>...</td>\n",
              "      <td>...</td>\n",
              "    </tr>\n",
              "    <tr>\n",
              "      <th>1243236</th>\n",
              "      <td>NaN</td>\n",
              "      <td>2020-01-07 09:18:00</td>\n",
              "      <td>2020-01-07 09:55:00</td>\n",
              "      <td>1.0</td>\n",
              "      <td>151</td>\n",
              "      <td>145</td>\n",
              "      <td>28.36</td>\n",
              "    </tr>\n",
              "    <tr>\n",
              "      <th>1243237</th>\n",
              "      <td>NaN</td>\n",
              "      <td>2020-01-07 09:05:00</td>\n",
              "      <td>2020-01-07 09:30:00</td>\n",
              "      <td>1.0</td>\n",
              "      <td>259</td>\n",
              "      <td>78</td>\n",
              "      <td>24.36</td>\n",
              "    </tr>\n",
              "    <tr>\n",
              "      <th>1243238</th>\n",
              "      <td>NaN</td>\n",
              "      <td>2020-01-07 09:05:00</td>\n",
              "      <td>2020-01-07 09:30:00</td>\n",
              "      <td>1.0</td>\n",
              "      <td>259</td>\n",
              "      <td>78</td>\n",
              "      <td>24.36</td>\n",
              "    </tr>\n",
              "    <tr>\n",
              "      <th>1243239</th>\n",
              "      <td>NaN</td>\n",
              "      <td>2020-01-07 09:49:00</td>\n",
              "      <td>2020-01-07 09:58:00</td>\n",
              "      <td>1.0</td>\n",
              "      <td>116</td>\n",
              "      <td>166</td>\n",
              "      <td>20.06</td>\n",
              "    </tr>\n",
              "    <tr>\n",
              "      <th>1243240</th>\n",
              "      <td>NaN</td>\n",
              "      <td>2020-01-07 09:49:00</td>\n",
              "      <td>2020-01-07 09:58:00</td>\n",
              "      <td>1.0</td>\n",
              "      <td>116</td>\n",
              "      <td>166</td>\n",
              "      <td>20.06</td>\n",
              "    </tr>\n",
              "  </tbody>\n",
              "</table>\n",
              "<p>1243241 rows × 7 columns</p>\n",
              "</div>"
            ],
            "text/plain": [
              "         VendorID tpep_pickup_datetime  ... DOLocationID  fare_amount\n",
              "0             1.0  2020-01-01 00:28:15  ...          239         6.00\n",
              "1             1.0  2020-01-01 00:35:39  ...          238         7.00\n",
              "2             1.0  2020-01-01 00:47:41  ...          238         6.00\n",
              "3             1.0  2020-01-01 00:55:23  ...          151         5.50\n",
              "4             2.0  2020-01-01 00:01:58  ...          193         3.50\n",
              "...           ...                  ...  ...          ...          ...\n",
              "1243236       NaN  2020-01-07 09:18:00  ...          145        28.36\n",
              "1243237       NaN  2020-01-07 09:05:00  ...           78        24.36\n",
              "1243238       NaN  2020-01-07 09:05:00  ...           78        24.36\n",
              "1243239       NaN  2020-01-07 09:49:00  ...          166        20.06\n",
              "1243240       NaN  2020-01-07 09:49:00  ...          166        20.06\n",
              "\n",
              "[1243241 rows x 7 columns]"
            ]
          },
          "metadata": {
            "tags": []
          },
          "execution_count": 92
        }
      ]
    },
    {
      "cell_type": "code",
      "metadata": {
        "colab": {
          "base_uri": "https://localhost:8080/"
        },
        "id": "t2u5ucBta11M",
        "outputId": "f13166fd-2d50-4f2d-eb41-ce2f28ca0e03"
      },
      "source": [
        "data3['passenger_count'].median()"
      ],
      "execution_count": 93,
      "outputs": [
        {
          "output_type": "execute_result",
          "data": {
            "text/plain": [
              "1.0"
            ]
          },
          "metadata": {
            "tags": []
          },
          "execution_count": 93
        }
      ]
    },
    {
      "cell_type": "code",
      "metadata": {
        "colab": {
          "base_uri": "https://localhost:8080/",
          "height": 419
        },
        "id": "rdN73-K5bBvQ",
        "outputId": "471ec9ec-cb9b-4dd1-c2aa-98500e787843"
      },
      "source": [
        "exam_data = pd.read_csv(\"https://raw.githubusercontent.com/dphi-official/Datasets/master/exam_scores.csv\")\r\n",
        "exam_data\r\n"
      ],
      "execution_count": 95,
      "outputs": [
        {
          "output_type": "execute_result",
          "data": {
            "text/html": [
              "<div>\n",
              "<style scoped>\n",
              "    .dataframe tbody tr th:only-of-type {\n",
              "        vertical-align: middle;\n",
              "    }\n",
              "\n",
              "    .dataframe tbody tr th {\n",
              "        vertical-align: top;\n",
              "    }\n",
              "\n",
              "    .dataframe thead th {\n",
              "        text-align: right;\n",
              "    }\n",
              "</style>\n",
              "<table border=\"1\" class=\"dataframe\">\n",
              "  <thead>\n",
              "    <tr style=\"text-align: right;\">\n",
              "      <th></th>\n",
              "      <th>gender</th>\n",
              "      <th>race/ethnicity</th>\n",
              "      <th>parental level of education</th>\n",
              "      <th>lunch</th>\n",
              "      <th>test preparation course</th>\n",
              "      <th>math score</th>\n",
              "      <th>reading score</th>\n",
              "      <th>writing score</th>\n",
              "    </tr>\n",
              "  </thead>\n",
              "  <tbody>\n",
              "    <tr>\n",
              "      <th>0</th>\n",
              "      <td>male</td>\n",
              "      <td>group B</td>\n",
              "      <td>bachelor's degree</td>\n",
              "      <td>standard</td>\n",
              "      <td>none</td>\n",
              "      <td>74</td>\n",
              "      <td>68</td>\n",
              "      <td>67</td>\n",
              "    </tr>\n",
              "    <tr>\n",
              "      <th>1</th>\n",
              "      <td>female</td>\n",
              "      <td>group C</td>\n",
              "      <td>some college</td>\n",
              "      <td>standard</td>\n",
              "      <td>completed</td>\n",
              "      <td>58</td>\n",
              "      <td>68</td>\n",
              "      <td>66</td>\n",
              "    </tr>\n",
              "    <tr>\n",
              "      <th>2</th>\n",
              "      <td>male</td>\n",
              "      <td>group C</td>\n",
              "      <td>some college</td>\n",
              "      <td>free/reduced</td>\n",
              "      <td>none</td>\n",
              "      <td>66</td>\n",
              "      <td>65</td>\n",
              "      <td>65</td>\n",
              "    </tr>\n",
              "    <tr>\n",
              "      <th>3</th>\n",
              "      <td>female</td>\n",
              "      <td>group D</td>\n",
              "      <td>bachelor's degree</td>\n",
              "      <td>free/reduced</td>\n",
              "      <td>none</td>\n",
              "      <td>74</td>\n",
              "      <td>75</td>\n",
              "      <td>73</td>\n",
              "    </tr>\n",
              "    <tr>\n",
              "      <th>4</th>\n",
              "      <td>male</td>\n",
              "      <td>group D</td>\n",
              "      <td>some college</td>\n",
              "      <td>standard</td>\n",
              "      <td>none</td>\n",
              "      <td>78</td>\n",
              "      <td>77</td>\n",
              "      <td>71</td>\n",
              "    </tr>\n",
              "    <tr>\n",
              "      <th>...</th>\n",
              "      <td>...</td>\n",
              "      <td>...</td>\n",
              "      <td>...</td>\n",
              "      <td>...</td>\n",
              "      <td>...</td>\n",
              "      <td>...</td>\n",
              "      <td>...</td>\n",
              "      <td>...</td>\n",
              "    </tr>\n",
              "    <tr>\n",
              "      <th>995</th>\n",
              "      <td>female</td>\n",
              "      <td>group C</td>\n",
              "      <td>some high school</td>\n",
              "      <td>standard</td>\n",
              "      <td>none</td>\n",
              "      <td>68</td>\n",
              "      <td>77</td>\n",
              "      <td>72</td>\n",
              "    </tr>\n",
              "    <tr>\n",
              "      <th>996</th>\n",
              "      <td>female</td>\n",
              "      <td>group E</td>\n",
              "      <td>some college</td>\n",
              "      <td>standard</td>\n",
              "      <td>none</td>\n",
              "      <td>98</td>\n",
              "      <td>81</td>\n",
              "      <td>94</td>\n",
              "    </tr>\n",
              "    <tr>\n",
              "      <th>997</th>\n",
              "      <td>female</td>\n",
              "      <td>group E</td>\n",
              "      <td>associate's degree</td>\n",
              "      <td>free/reduced</td>\n",
              "      <td>none</td>\n",
              "      <td>67</td>\n",
              "      <td>67</td>\n",
              "      <td>67</td>\n",
              "    </tr>\n",
              "    <tr>\n",
              "      <th>998</th>\n",
              "      <td>female</td>\n",
              "      <td>group C</td>\n",
              "      <td>high school</td>\n",
              "      <td>standard</td>\n",
              "      <td>none</td>\n",
              "      <td>63</td>\n",
              "      <td>68</td>\n",
              "      <td>70</td>\n",
              "    </tr>\n",
              "    <tr>\n",
              "      <th>999</th>\n",
              "      <td>male</td>\n",
              "      <td>group C</td>\n",
              "      <td>some college</td>\n",
              "      <td>free/reduced</td>\n",
              "      <td>none</td>\n",
              "      <td>49</td>\n",
              "      <td>57</td>\n",
              "      <td>50</td>\n",
              "    </tr>\n",
              "  </tbody>\n",
              "</table>\n",
              "<p>1000 rows × 8 columns</p>\n",
              "</div>"
            ],
            "text/plain": [
              "     gender race/ethnicity  ... reading score writing score\n",
              "0      male        group B  ...            68            67\n",
              "1    female        group C  ...            68            66\n",
              "2      male        group C  ...            65            65\n",
              "3    female        group D  ...            75            73\n",
              "4      male        group D  ...            77            71\n",
              "..      ...            ...  ...           ...           ...\n",
              "995  female        group C  ...            77            72\n",
              "996  female        group E  ...            81            94\n",
              "997  female        group E  ...            67            67\n",
              "998  female        group C  ...            68            70\n",
              "999    male        group C  ...            57            50\n",
              "\n",
              "[1000 rows x 8 columns]"
            ]
          },
          "metadata": {
            "tags": []
          },
          "execution_count": 95
        }
      ]
    },
    {
      "cell_type": "code",
      "metadata": {
        "colab": {
          "base_uri": "https://localhost:8080/"
        },
        "id": "YnY_QZNUfm1M",
        "outputId": "757050b2-c05d-4e40-9e0b-366340bb86c0"
      },
      "source": [
        "exam_data['gender'].value_counts()"
      ],
      "execution_count": 99,
      "outputs": [
        {
          "output_type": "execute_result",
          "data": {
            "text/plain": [
              "female    502\n",
              "male      498\n",
              "Name: gender, dtype: int64"
            ]
          },
          "metadata": {
            "tags": []
          },
          "execution_count": 99
        }
      ]
    },
    {
      "cell_type": "code",
      "metadata": {
        "id": "naGQzUvLgoue"
      },
      "source": [
        "group_a = exam_data.loc[exam_data['race/ethnicity'] == 'group A']"
      ],
      "execution_count": 100,
      "outputs": []
    },
    {
      "cell_type": "code",
      "metadata": {
        "id": "jwmD_Yieg2cE"
      },
      "source": [
        "course_completed = exam_data.loc[exam_data['test preparation course'] == 'completed']"
      ],
      "execution_count": 108,
      "outputs": []
    },
    {
      "cell_type": "code",
      "metadata": {
        "colab": {
          "base_uri": "https://localhost:8080/"
        },
        "id": "eD9fbuHcg_Zf",
        "outputId": "ce7ec505-a48b-44e5-944c-a9b96dc80d6a"
      },
      "source": [
        "(group_a['test preparation course'] == 'completed').value_counts()"
      ],
      "execution_count": 105,
      "outputs": [
        {
          "output_type": "execute_result",
          "data": {
            "text/plain": [
              "False    42\n",
              "True     21\n",
              "Name: test preparation course, dtype: int64"
            ]
          },
          "metadata": {
            "tags": []
          },
          "execution_count": 105
        }
      ]
    },
    {
      "cell_type": "code",
      "metadata": {
        "colab": {
          "base_uri": "https://localhost:8080/",
          "height": 315
        },
        "id": "wc3DGZjAh2JL",
        "outputId": "8096b6fc-b8b5-4391-a7c1-ac8ae1f4ad28"
      },
      "source": [
        "group_a.hist(column='math score')"
      ],
      "execution_count": 106,
      "outputs": [
        {
          "output_type": "execute_result",
          "data": {
            "text/plain": [
              "array([[<matplotlib.axes._subplots.AxesSubplot object at 0x7f7248a6b668>]],\n",
              "      dtype=object)"
            ]
          },
          "metadata": {
            "tags": []
          },
          "execution_count": 106
        },
        {
          "output_type": "display_data",
          "data": {
            "image/png": "[encoded data removed]",
            "text/plain": [
              "<Figure size 432x288 with 1 Axes>"
            ]
          },
          "metadata": {
            "tags": [],
            "needs_background": "light"
          }
        }
      ]
    },
    {
      "cell_type": "code",
      "metadata": {
        "colab": {
          "base_uri": "https://localhost:8080/",
          "height": 315
        },
        "id": "9VjhLsoeiL_Z",
        "outputId": "2a378544-0a37-49f9-d4ff-96d0f7331d23"
      },
      "source": [
        "course_completed.hist(column='math score')"
      ],
      "execution_count": 109,
      "outputs": [
        {
          "output_type": "execute_result",
          "data": {
            "text/plain": [
              "array([[<matplotlib.axes._subplots.AxesSubplot object at 0x7f7251279278>]],\n",
              "      dtype=object)"
            ]
          },
          "metadata": {
            "tags": []
          },
          "execution_count": 109
        },
        {
          "output_type": "display_data",
          "data": {
            "image/png": "[encoded data removed]",
            "text/plain": [
              "<Figure size 432x288 with 1 Axes>"
            ]
          },
          "metadata": {
            "tags": [],
            "needs_background": "light"
          }
        }
      ]
    },
    {
      "cell_type": "code",
      "metadata": {
        "colab": {
          "base_uri": "https://localhost:8080/"
        },
        "id": "s_IlEowFimkF",
        "outputId": "5e0d1615-c646-4974-aced-2f84426c2693"
      },
      "source": [
        "course_completed['gender'].value_counts()"
      ],
      "execution_count": 110,
      "outputs": [
        {
          "output_type": "execute_result",
          "data": {
            "text/plain": [
              "male      184\n",
              "female    162\n",
              "Name: gender, dtype: int64"
            ]
          },
          "metadata": {
            "tags": []
          },
          "execution_count": 110
        }
      ]
    },
    {
      "cell_type": "code",
      "metadata": {
        "id": "SDfQrbr3i6r7"
      },
      "source": [
        "frames = [group_a, course_completed]"
      ],
      "execution_count": 111,
      "outputs": []
    },
    {
      "cell_type": "code",
      "metadata": {
        "id": "FQhRjU6bjBZ-"
      },
      "source": [
        "concat_data = pd.concat(frames)"
      ],
      "execution_count": 113,
      "outputs": []
    },
    {
      "cell_type": "code",
      "metadata": {
        "colab": {
          "base_uri": "https://localhost:8080/"
        },
        "id": "93ollC04jGxf",
        "outputId": "955c8458-d8b5-49e4-dfa2-b85636bd7fbd"
      },
      "source": [
        "duplicate = concat_data[concat_data.duplicated()]\r\n",
        "duplicate.info()"
      ],
      "execution_count": 118,
      "outputs": [
        {
          "output_type": "stream",
          "text": [
            "<class 'pandas.core.frame.DataFrame'>\n",
            "Int64Index: 21 entries, 128 to 946\n",
            "Data columns (total 8 columns):\n",
            " #   Column                       Non-Null Count  Dtype \n",
            "---  ------                       --------------  ----- \n",
            " 0   gender                       21 non-null     object\n",
            " 1   race/ethnicity               21 non-null     object\n",
            " 2   parental level of education  21 non-null     object\n",
            " 3   lunch                        21 non-null     object\n",
            " 4   test preparation course      21 non-null     object\n",
            " 5   math score                   21 non-null     int64 \n",
            " 6   reading score                21 non-null     int64 \n",
            " 7   writing score                21 non-null     int64 \n",
            "dtypes: int64(3), object(5)\n",
            "memory usage: 1.5+ KB\n"
          ],
          "name": "stdout"
        }
      ]
    }
  ]
}